{
 "cells": [
  {
   "cell_type": "markdown",
   "id": "3a2e8d67",
   "metadata": {},
   "source": [
    "# Data Analysis with Python for Excel Users"
   ]
  },
  {
   "cell_type": "markdown",
   "id": "76323ed2",
   "metadata": {},
   "source": [
    "Working through the course [*Data Analysis with Python for Excel Users*](https://youtu.be/WcDaZ67TVRo)."
   ]
  },
  {
   "cell_type": "markdown",
   "id": "6f9ef63a",
   "metadata": {},
   "source": [
    "# Jupyter Notebook basics."
   ]
  },
  {
   "cell_type": "code",
   "execution_count": 8,
   "id": "7558b0da",
   "metadata": {},
   "outputs": [
    {
     "data": {
      "text/plain": [
       "1234"
      ]
     },
     "execution_count": 8,
     "metadata": {},
     "output_type": "execute_result"
    }
   ],
   "source": [
    "1234"
   ]
  },
  {
   "cell_type": "markdown",
   "id": "b3654162",
   "metadata": {},
   "source": [
    "This is now a *markdown* cell!"
   ]
  }
 ],
 "metadata": {
  "kernelspec": {
   "display_name": "Python 3 (ipykernel)",
   "language": "python",
   "name": "python3"
  },
  "language_info": {
   "codemirror_mode": {
    "name": "ipython",
    "version": 3
   },
   "file_extension": ".py",
   "mimetype": "text/x-python",
   "name": "python",
   "nbconvert_exporter": "python",
   "pygments_lexer": "ipython3",
   "version": "3.9.5"
  }
 },
 "nbformat": 4,
 "nbformat_minor": 5
}
