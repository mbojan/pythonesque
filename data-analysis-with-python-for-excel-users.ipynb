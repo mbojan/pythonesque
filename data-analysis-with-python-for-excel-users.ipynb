{
 "cells": [
  {
   "cell_type": "markdown",
   "id": "3a2e8d67",
   "metadata": {},
   "source": [
    "# Data Analysis with Python for Excel Users"
   ]
  },
  {
   "cell_type": "markdown",
   "id": "76323ed2",
   "metadata": {},
   "source": [
    "Working through the course [*Data Analysis with Python for Excel Users*](https://youtu.be/WcDaZ67TVRo)."
   ]
  },
  {
   "cell_type": "markdown",
   "id": "6f9ef63a",
   "metadata": {},
   "source": [
    "# Jupyter Notebook basics"
   ]
  },
  {
   "cell_type": "markdown",
   "id": "7213a41f",
   "metadata": {},
   "source": [
    "Important keyboard shortcuts:\n",
    "\n",
    "- `H` -- display keyboard shortcuts\n",
    "- `Esc` -- leave to Command Mode (blue bar on the left)\n",
    "- `Enter` -- enter edit mode (green bar)\n",
    "- `A`, `B` -- create cell Above or Below\n",
    "- `Y` -- set cell type to code\n",
    "- `M` -- set cell type to Markdown"
   ]
  },
  {
   "cell_type": "markdown",
   "id": "f9d2074b",
   "metadata": {},
   "source": [
    "Each cell can be:\n",
    "\n",
    "- Code cell for writing code (set by pressing `Y`)\n",
    "- Markdown cell - pure text with Markdown formatting (set with `M`)\n",
    "- NBRaw type - content is ignored and typeset in monospaced font (set with `R`)"
   ]
  },
  {
   "cell_type": "markdown",
   "id": "4ff9eb88",
   "metadata": {},
   "source": [
    "This is a code cell"
   ]
  },
  {
   "cell_type": "code",
   "execution_count": 1,
   "id": "33745e06",
   "metadata": {},
   "outputs": [
    {
     "data": {
      "text/plain": [
       "1234"
      ]
     },
     "execution_count": 1,
     "metadata": {},
     "output_type": "execute_result"
    }
   ],
   "source": [
    "1234"
   ]
  },
  {
   "cell_type": "markdown",
   "id": "b3654162",
   "metadata": {},
   "source": [
    "Testing Markdown formatting: \n",
    "\n",
    "This is now a *markdown* cell! Some text in **bold**."
   ]
  },
  {
   "cell_type": "markdown",
   "id": "d82d1a29",
   "metadata": {},
   "source": [
    "What's below is a Raw cell. It is not parsed by the kernel."
   ]
  },
  {
   "cell_type": "raw",
   "id": "39d0fec1",
   "metadata": {},
   "source": [
    "This is raw cell.\n",
    "  It is not evaluated."
   ]
  },
  {
   "cell_type": "markdown",
   "id": "e97461b4",
   "metadata": {},
   "source": [
    "## Other functions"
   ]
  },
  {
   "cell_type": "markdown",
   "id": "250a61d2",
   "metadata": {},
   "source": [
    "Use `F` (in command mode) for find-and-replace."
   ]
  },
  {
   "cell_type": "markdown",
   "id": "ffc28d1f",
   "metadata": {},
   "source": [
    "# Hello world"
   ]
  },
  {
   "cell_type": "code",
   "execution_count": 2,
   "id": "8b37d935",
   "metadata": {},
   "outputs": [
    {
     "name": "stdout",
     "output_type": "stream",
     "text": [
      "Hello world!\n"
     ]
    }
   ],
   "source": [
    "# This is a comment\n",
    "print(\"Hello world!\")"
   ]
  },
  {
   "cell_type": "code",
   "execution_count": 3,
   "id": "fb22bc2c",
   "metadata": {},
   "outputs": [
    {
     "data": {
      "text/plain": [
       "'Hello world!'"
      ]
     },
     "execution_count": 3,
     "metadata": {},
     "output_type": "execute_result"
    }
   ],
   "source": [
    "\"Hello world!\""
   ]
  },
  {
   "cell_type": "code",
   "execution_count": 4,
   "id": "99595094",
   "metadata": {},
   "outputs": [
    {
     "name": "stdout",
     "output_type": "stream",
     "text": [
      "Michał\n"
     ]
    }
   ],
   "source": [
    "# Prints my name\n",
    "print(\"Michał\")"
   ]
  },
  {
   "cell_type": "markdown",
   "id": "1274c980",
   "metadata": {},
   "source": [
    "# Data types"
   ]
  },
  {
   "cell_type": "markdown",
   "id": "099fa6ad",
   "metadata": {},
   "source": [
    "Intergers"
   ]
  },
  {
   "cell_type": "code",
   "execution_count": 5,
   "id": "502f4016",
   "metadata": {},
   "outputs": [
    {
     "data": {
      "text/plain": [
       "int"
      ]
     },
     "execution_count": 5,
     "metadata": {},
     "output_type": "execute_result"
    }
   ],
   "source": [
    "type(1)"
   ]
  },
  {
   "cell_type": "markdown",
   "id": "068fb746",
   "metadata": {},
   "source": [
    "Floats"
   ]
  },
  {
   "cell_type": "code",
   "execution_count": 6,
   "id": "d97f1358",
   "metadata": {},
   "outputs": [
    {
     "data": {
      "text/plain": [
       "float"
      ]
     },
     "execution_count": 6,
     "metadata": {},
     "output_type": "execute_result"
    }
   ],
   "source": [
    "type(1.0); type(2.4)"
   ]
  },
  {
   "cell_type": "code",
   "execution_count": 7,
   "id": "8c105594",
   "metadata": {},
   "outputs": [
    {
     "data": {
      "text/plain": [
       "3"
      ]
     },
     "execution_count": 7,
     "metadata": {},
     "output_type": "execute_result"
    }
   ],
   "source": [
    "1 + 2"
   ]
  },
  {
   "cell_type": "code",
   "execution_count": 8,
   "id": "8f85a18b",
   "metadata": {},
   "outputs": [
    {
     "data": {
      "text/plain": [
       "1.5"
      ]
     },
     "execution_count": 8,
     "metadata": {},
     "output_type": "execute_result"
    }
   ],
   "source": [
    "2 - 3 + 2.5"
   ]
  },
  {
   "cell_type": "markdown",
   "id": "7afa18bd",
   "metadata": {},
   "source": [
    "Boolean"
   ]
  },
  {
   "cell_type": "code",
   "execution_count": 9,
   "id": "50159b3d",
   "metadata": {},
   "outputs": [
    {
     "data": {
      "text/plain": [
       "bool"
      ]
     },
     "execution_count": 9,
     "metadata": {},
     "output_type": "execute_result"
    }
   ],
   "source": [
    "type(True)"
   ]
  },
  {
   "cell_type": "code",
   "execution_count": 10,
   "id": "fc3cf40f",
   "metadata": {},
   "outputs": [
    {
     "data": {
      "text/plain": [
       "bool"
      ]
     },
     "execution_count": 10,
     "metadata": {},
     "output_type": "execute_result"
    }
   ],
   "source": [
    "type(False)"
   ]
  },
  {
   "cell_type": "markdown",
   "id": "b2830858",
   "metadata": {},
   "source": [
    "Strings"
   ]
  },
  {
   "cell_type": "code",
   "execution_count": 11,
   "id": "639534d8",
   "metadata": {},
   "outputs": [
    {
     "data": {
      "text/plain": [
       "str"
      ]
     },
     "execution_count": 11,
     "metadata": {},
     "output_type": "execute_result"
    }
   ],
   "source": [
    "type(\"Dupa\")"
   ]
  },
  {
   "cell_type": "code",
   "execution_count": 12,
   "id": "138b2e0c",
   "metadata": {},
   "outputs": [
    {
     "data": {
      "text/plain": [
       "'KAKADU BABCI'"
      ]
     },
     "execution_count": 12,
     "metadata": {},
     "output_type": "execute_result"
    }
   ],
   "source": [
    "\"Kakadu Babci\".upper()"
   ]
  },
  {
   "cell_type": "code",
   "execution_count": 13,
   "id": "f8c57c06",
   "metadata": {},
   "outputs": [
    {
     "name": "stdout",
     "output_type": "stream",
     "text": [
      "kakadu babci\n"
     ]
    }
   ],
   "source": [
    "z = \"Kakadu Babci\".lower()\n",
    "print(z)"
   ]
  },
  {
   "cell_type": "code",
   "execution_count": 14,
   "id": "cac8cf68",
   "metadata": {},
   "outputs": [
    {
     "data": {
      "text/plain": [
       "'Kakadu Babci'"
      ]
     },
     "execution_count": 14,
     "metadata": {},
     "output_type": "execute_result"
    }
   ],
   "source": [
    "z.title()"
   ]
  },
  {
   "cell_type": "code",
   "execution_count": 15,
   "id": "9bd1cdfc",
   "metadata": {},
   "outputs": [
    {
     "data": {
      "text/plain": [
       "3"
      ]
     },
     "execution_count": 15,
     "metadata": {},
     "output_type": "execute_result"
    }
   ],
   "source": [
    "\"Kakadu Babci\".count(\"a\")"
   ]
  },
  {
   "cell_type": "code",
   "execution_count": 16,
   "id": "01a88b43",
   "metadata": {},
   "outputs": [
    {
     "data": {
      "text/plain": [
       "'Kaaakaaadu Baaabci'"
      ]
     },
     "execution_count": 16,
     "metadata": {},
     "output_type": "execute_result"
    }
   ],
   "source": [
    "\"Kakadu Babci\".replace(\"a\", \"aaa\")"
   ]
  },
  {
   "cell_type": "markdown",
   "id": "35042ce4",
   "metadata": {},
   "source": [
    "# Variables"
   ]
  },
  {
   "cell_type": "code",
   "execution_count": 17,
   "id": "ef3ed14d",
   "metadata": {},
   "outputs": [],
   "source": [
    "message_1 = \"I'm learning Python\""
   ]
  },
  {
   "cell_type": "code",
   "execution_count": 18,
   "id": "67a2e712",
   "metadata": {},
   "outputs": [
    {
     "data": {
      "text/plain": [
       "str"
      ]
     },
     "execution_count": 18,
     "metadata": {},
     "output_type": "execute_result"
    }
   ],
   "source": [
    "type(message_1)"
   ]
  },
  {
   "cell_type": "code",
   "execution_count": 19,
   "id": "9a29aa6f",
   "metadata": {},
   "outputs": [
    {
     "data": {
      "text/plain": [
       "\"I'm learning Python\""
      ]
     },
     "execution_count": 19,
     "metadata": {},
     "output_type": "execute_result"
    }
   ],
   "source": [
    "message_1"
   ]
  },
  {
   "cell_type": "code",
   "execution_count": 20,
   "id": "e6f5ce93",
   "metadata": {},
   "outputs": [],
   "source": [
    "message_2 = \"and it's fun!\""
   ]
  },
  {
   "cell_type": "markdown",
   "id": "7b3f79aa",
   "metadata": {},
   "source": [
    "String concatenation:"
   ]
  },
  {
   "cell_type": "code",
   "execution_count": 21,
   "id": "1d007187",
   "metadata": {},
   "outputs": [
    {
     "data": {
      "text/plain": [
       "\"I'm learning Python and it's fun!\""
      ]
     },
     "execution_count": 21,
     "metadata": {},
     "output_type": "execute_result"
    }
   ],
   "source": [
    "message = message_1 + \" \" + message_2\n",
    "message"
   ]
  },
  {
   "cell_type": "markdown",
   "id": "f53b2f8b",
   "metadata": {},
   "source": [
    "String interpolation with `f`-string"
   ]
  },
  {
   "cell_type": "code",
   "execution_count": 22,
   "id": "57870607",
   "metadata": {},
   "outputs": [
    {
     "data": {
      "text/plain": [
       "'Hello World'"
      ]
     },
     "execution_count": 22,
     "metadata": {},
     "output_type": "execute_result"
    }
   ],
   "source": [
    "f'Hello World'"
   ]
  },
  {
   "cell_type": "code",
   "execution_count": 23,
   "id": "08e7ec5d",
   "metadata": {},
   "outputs": [
    {
     "data": {
      "text/plain": [
       "\"I'm learning Python and it's fun!\""
      ]
     },
     "execution_count": 23,
     "metadata": {},
     "output_type": "execute_result"
    }
   ],
   "source": [
    "f'{message_1} {message_2}'"
   ]
  },
  {
   "cell_type": "markdown",
   "id": "522a1bb1",
   "metadata": {},
   "source": [
    "# Lists"
   ]
  },
  {
   "cell_type": "markdown",
   "id": "b3440236",
   "metadata": {},
   "source": [
    "Mutability - objects that can change it's values. Lists are mutable."
   ]
  },
  {
   "cell_type": "code",
   "execution_count": 45,
   "id": "07295f28",
   "metadata": {},
   "outputs": [],
   "source": [
    "countries = [\"United States\", \"India\", \"China\", \"Brasil\"]"
   ]
  },
  {
   "cell_type": "code",
   "execution_count": 25,
   "id": "0ce45197",
   "metadata": {},
   "outputs": [
    {
     "data": {
      "text/plain": [
       "['United States', 'India', 'China', 'Brasil']"
      ]
     },
     "execution_count": 25,
     "metadata": {},
     "output_type": "execute_result"
    }
   ],
   "source": [
    "countries"
   ]
  },
  {
   "cell_type": "markdown",
   "id": "c6b28ed9",
   "metadata": {},
   "source": [
    "Lists can mix types and duplicated elements:"
   ]
  },
  {
   "cell_type": "code",
   "execution_count": 26,
   "id": "bb7808fb",
   "metadata": {},
   "outputs": [
    {
     "data": {
      "text/plain": [
       "['United States', 1, 1.0, 'United States']"
      ]
     },
     "execution_count": 26,
     "metadata": {},
     "output_type": "execute_result"
    }
   ],
   "source": [
    "['United States', 1, 1.0, 'United States']"
   ]
  },
  {
   "cell_type": "markdown",
   "id": "48f8ff3f",
   "metadata": {},
   "source": [
    "## Indexing\n"
   ]
  },
  {
   "cell_type": "markdown",
   "id": "3d03a391",
   "metadata": {},
   "source": [
    "Indexing (0-based):"
   ]
  },
  {
   "cell_type": "code",
   "execution_count": 27,
   "id": "89a74083",
   "metadata": {},
   "outputs": [
    {
     "data": {
      "text/plain": [
       "'United States'"
      ]
     },
     "execution_count": 27,
     "metadata": {},
     "output_type": "execute_result"
    }
   ],
   "source": [
    "countries[0]"
   ]
  },
  {
   "cell_type": "code",
   "execution_count": 28,
   "id": "5a88e120",
   "metadata": {},
   "outputs": [
    {
     "data": {
      "text/plain": [
       "'India'"
      ]
     },
     "execution_count": 28,
     "metadata": {},
     "output_type": "execute_result"
    }
   ],
   "source": [
    "countries[1]"
   ]
  },
  {
   "cell_type": "code",
   "execution_count": 29,
   "id": "89873189",
   "metadata": {},
   "outputs": [
    {
     "data": {
      "text/plain": [
       "1.0"
      ]
     },
     "execution_count": 29,
     "metadata": {},
     "output_type": "execute_result"
    }
   ],
   "source": [
    "['United States', 1, 1.0, 'United States'][2]"
   ]
  },
  {
   "cell_type": "markdown",
   "id": "da6907a0",
   "metadata": {},
   "source": [
    "Negative indexes count from the end:"
   ]
  },
  {
   "cell_type": "code",
   "execution_count": 30,
   "id": "a65eaef5",
   "metadata": {},
   "outputs": [
    {
     "data": {
      "text/plain": [
       "'Brasil'"
      ]
     },
     "execution_count": 30,
     "metadata": {},
     "output_type": "execute_result"
    }
   ],
   "source": [
    "countries[-1]"
   ]
  },
  {
   "cell_type": "code",
   "execution_count": 31,
   "id": "fe8c9b07",
   "metadata": {},
   "outputs": [
    {
     "data": {
      "text/plain": [
       "'United States'"
      ]
     },
     "execution_count": 31,
     "metadata": {},
     "output_type": "execute_result"
    }
   ],
   "source": [
    "countries[-4]"
   ]
  },
  {
   "cell_type": "markdown",
   "id": "3d24e098",
   "metadata": {},
   "source": [
    "## Slicing"
   ]
  },
  {
   "cell_type": "markdown",
   "id": "d4150f20",
   "metadata": {},
   "source": [
    "The syntax is `list_name[start:stop]`. The `stop`th element is not included."
   ]
  },
  {
   "cell_type": "code",
   "execution_count": 32,
   "id": "2f7912db",
   "metadata": {},
   "outputs": [
    {
     "data": {
      "text/plain": [
       "['United States', 'India', 'China', 'Brasil']"
      ]
     },
     "execution_count": 32,
     "metadata": {},
     "output_type": "execute_result"
    }
   ],
   "source": [
    "countries"
   ]
  },
  {
   "cell_type": "code",
   "execution_count": 33,
   "id": "08f596a8",
   "metadata": {},
   "outputs": [
    {
     "data": {
      "text/plain": [
       "['United States']"
      ]
     },
     "execution_count": 33,
     "metadata": {},
     "output_type": "execute_result"
    }
   ],
   "source": [
    "countries[0:1]"
   ]
  },
  {
   "cell_type": "code",
   "execution_count": 34,
   "id": "8da8b2b3",
   "metadata": {},
   "outputs": [
    {
     "data": {
      "text/plain": [
       "['United States', 'India', 'China']"
      ]
     },
     "execution_count": 34,
     "metadata": {},
     "output_type": "execute_result"
    }
   ],
   "source": [
    "countries[0:3]"
   ]
  },
  {
   "cell_type": "code",
   "execution_count": 35,
   "id": "06c4eeb5",
   "metadata": {},
   "outputs": [
    {
     "data": {
      "text/plain": [
       "['India', 'China', 'Brasil']"
      ]
     },
     "execution_count": 35,
     "metadata": {},
     "output_type": "execute_result"
    }
   ],
   "source": [
    "countries[1:4]"
   ]
  },
  {
   "cell_type": "markdown",
   "id": "342624fb",
   "metadata": {},
   "source": [
    "Ommiting start/stop countes from/until the beginning/end:"
   ]
  },
  {
   "cell_type": "code",
   "execution_count": 36,
   "id": "cc791878",
   "metadata": {},
   "outputs": [
    {
     "data": {
      "text/plain": [
       "['United States', 'India', 'China']"
      ]
     },
     "execution_count": 36,
     "metadata": {},
     "output_type": "execute_result"
    }
   ],
   "source": [
    "countries[:3]"
   ]
  },
  {
   "cell_type": "code",
   "execution_count": 37,
   "id": "42b91c64",
   "metadata": {},
   "outputs": [
    {
     "data": {
      "text/plain": [
       "['India', 'China', 'Brasil']"
      ]
     },
     "execution_count": 37,
     "metadata": {},
     "output_type": "execute_result"
    }
   ],
   "source": [
    "countries[1:]"
   ]
  },
  {
   "cell_type": "markdown",
   "id": "8e4405a7",
   "metadata": {},
   "source": [
    "## Adding elements to a list"
   ]
  },
  {
   "cell_type": "code",
   "execution_count": 38,
   "id": "9c3f99db",
   "metadata": {},
   "outputs": [
    {
     "data": {
      "text/plain": [
       "['United States', 'India', 'China', 'Brasil']"
      ]
     },
     "execution_count": 38,
     "metadata": {},
     "output_type": "execute_result"
    }
   ],
   "source": [
    "countries"
   ]
  },
  {
   "cell_type": "markdown",
   "id": "6d4302da",
   "metadata": {},
   "source": [
    "Appending:"
   ]
  },
  {
   "cell_type": "code",
   "execution_count": 47,
   "id": "83a13f86",
   "metadata": {},
   "outputs": [
    {
     "data": {
      "text/plain": [
       "['Brasil', 'China', 'India', 'United States', 'Canada']"
      ]
     },
     "execution_count": 47,
     "metadata": {},
     "output_type": "execute_result"
    }
   ],
   "source": [
    "countries.append(\"Canada\")\n",
    "countries"
   ]
  },
  {
   "cell_type": "markdown",
   "id": "4f5f45d1",
   "metadata": {},
   "source": [
    "Inserting:"
   ]
  },
  {
   "cell_type": "code",
   "execution_count": 48,
   "id": "09b42d2b",
   "metadata": {},
   "outputs": [
    {
     "data": {
      "text/plain": [
       "['Spain', 'Brasil', 'China', 'India', 'United States', 'Canada']"
      ]
     },
     "execution_count": 48,
     "metadata": {},
     "output_type": "execute_result"
    }
   ],
   "source": [
    "countries.insert(0, \"Spain\")\n",
    "countries"
   ]
  },
  {
   "cell_type": "code",
   "execution_count": 49,
   "id": "7c9b1564",
   "metadata": {},
   "outputs": [
    {
     "data": {
      "text/plain": [
       "['Brasil', 'Canada', 'China', 'India', 'Spain', 'United States']"
      ]
     },
     "execution_count": 49,
     "metadata": {},
     "output_type": "execute_result"
    }
   ],
   "source": [
    "countries.sort()\n",
    "countries"
   ]
  },
  {
   "cell_type": "markdown",
   "id": "5707bcc4",
   "metadata": {},
   "source": [
    "Names of lists are references. Below `dupa1` and `countries` point to the same object. The `copy()` method creates a \"deep-copy\"."
   ]
  },
  {
   "cell_type": "code",
   "execution_count": 51,
   "id": "675a1e0a",
   "metadata": {},
   "outputs": [],
   "source": [
    "dupa1 = countries\n",
    "dupa2 = countries.copy()"
   ]
  },
  {
   "cell_type": "code",
   "execution_count": 53,
   "id": "9aab1e0b",
   "metadata": {},
   "outputs": [
    {
     "data": {
      "text/plain": [
       "['Brasil', 'Canada', 'China', 'India', 'Spain', 'United States']"
      ]
     },
     "execution_count": 53,
     "metadata": {},
     "output_type": "execute_result"
    }
   ],
   "source": [
    "dupa1"
   ]
  },
  {
   "cell_type": "code",
   "execution_count": 54,
   "id": "170e4fb4",
   "metadata": {},
   "outputs": [
    {
     "data": {
      "text/plain": [
       "['Brasil', 'Canada', 'China', 'India', 'Spain', 'United States']"
      ]
     },
     "execution_count": 54,
     "metadata": {},
     "output_type": "execute_result"
    }
   ],
   "source": [
    "dupa2"
   ]
  },
  {
   "cell_type": "code",
   "execution_count": 55,
   "id": "c0bf7c7a",
   "metadata": {},
   "outputs": [
    {
     "data": {
      "text/plain": [
       "['Brasil', 'Canada', 'China', 'India', 'Spain', 'United States', 'Dupsko']"
      ]
     },
     "execution_count": 55,
     "metadata": {},
     "output_type": "execute_result"
    }
   ],
   "source": [
    "countries.append(\"Dupsko\")\n",
    "dupa1"
   ]
  },
  {
   "cell_type": "code",
   "execution_count": 56,
   "id": "ad37e27a",
   "metadata": {},
   "outputs": [
    {
     "data": {
      "text/plain": [
       "['Brasil', 'Canada', 'China', 'India', 'Spain', 'United States']"
      ]
     },
     "execution_count": 56,
     "metadata": {},
     "output_type": "execute_result"
    }
   ],
   "source": [
    "dupa2"
   ]
  }
 ],
 "metadata": {
  "kernelspec": {
   "display_name": "Python 3 (ipykernel)",
   "language": "python",
   "name": "python3"
  },
  "language_info": {
   "codemirror_mode": {
    "name": "ipython",
    "version": 3
   },
   "file_extension": ".py",
   "mimetype": "text/x-python",
   "name": "python",
   "nbconvert_exporter": "python",
   "pygments_lexer": "ipython3",
   "version": "3.9.5"
  },
  "toc": {
   "base_numbering": 1,
   "nav_menu": {},
   "number_sections": true,
   "sideBar": true,
   "skip_h1_title": false,
   "title_cell": "Table of Contents",
   "title_sidebar": "Contents",
   "toc_cell": false,
   "toc_position": {},
   "toc_section_display": true,
   "toc_window_display": false
  }
 },
 "nbformat": 4,
 "nbformat_minor": 5
}
